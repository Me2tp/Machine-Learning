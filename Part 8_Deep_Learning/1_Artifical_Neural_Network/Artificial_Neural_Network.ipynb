{
 "cells": [
  {
   "cell_type": "code",
   "execution_count": 1,
   "metadata": {},
   "outputs": [],
   "source": [
    "#import module\n",
    "import numpy as np\n",
    "import pandas as pd\n",
    "\n",
    "#import dataset and seperating independent and dependent variable\n",
    "dataset=pd.read_csv(\"Churn_Modelling.csv\")\n",
    "x=dataset.iloc[:,3:13].values\n",
    "y=dataset.iloc[:,13].values"
   ]
  },
  {
   "cell_type": "code",
   "execution_count": 2,
   "metadata": {},
   "outputs": [],
   "source": [
    "#Encode Categorical\n",
    "from sklearn.preprocessing import LabelEncoder\n",
    "lencoder_x1=LabelEncoder()\n",
    "lencoder_x2=LabelEncoder()\n",
    "x[:,1]=lencoder_x1.fit_transform(x[:,1])\n",
    "x[:,2]=lencoder_x2.fit_transform(x[:,2])\n",
    "from sklearn.compose import ColumnTransformer\n",
    "from sklearn.preprocessing import OneHotEncoder\n",
    "ct=ColumnTransformer(transformers=[('Encode',OneHotEncoder(),[1])],remainder='passthrough')\n",
    "x=ct.fit_transform(x)\n",
    "x=x[:,1:]\n",
    "#pd.DataFrame(x)"
   ]
  },
  {
   "cell_type": "code",
   "execution_count": 3,
   "metadata": {},
   "outputs": [],
   "source": [
    "#Traning and Testing Data_set\n",
    "from sklearn.model_selection import train_test_split\n",
    "x_train,x_test,y_train,y_test=train_test_split(x,y,test_size=0.2,random_state=0)"
   ]
  },
  {
   "cell_type": "code",
   "execution_count": 4,
   "metadata": {},
   "outputs": [],
   "source": [
    "#feature scaling need to apply in ANN COMPULSARY\n",
    "from sklearn.preprocessing import StandardScaler\n",
    "sc_x=StandardScaler()\n",
    "x_train=sc_x.fit_transform(x_train)\n",
    "x_test=sc_x.transform(x_test)"
   ]
  },
  {
   "cell_type": "code",
   "execution_count": 5,
   "metadata": {},
   "outputs": [
    {
     "name": "stderr",
     "output_type": "stream",
     "text": [
      "Using TensorFlow backend.\n"
     ]
    }
   ],
   "source": [
    "import tensorflow as tf\n",
    "import keras"
   ]
  },
  {
   "cell_type": "code",
   "execution_count": 6,
   "metadata": {},
   "outputs": [],
   "source": [
    "#IMPORT MODULE\n",
    "from keras.models import Sequential #Sequential to initialize our neural network\n",
    "from keras.layers import Dense #To create layer in artificial neural network"
   ]
  },
  {
   "cell_type": "code",
   "execution_count": 7,
   "metadata": {},
   "outputs": [],
   "source": [
    "#Initialising the ANN\n",
    "classifier= Sequential() #To intilaise ANN"
   ]
  },
  {
   "cell_type": "code",
   "execution_count": 13,
   "metadata": {},
   "outputs": [],
   "source": [
    "#Adding the first input layer and hidden layer`\n",
    "classifier.add(Dense(6,input_shape=(11,),kernel_initializer='uniform',activation='relu'))"
   ]
  },
  {
   "cell_type": "code",
   "execution_count": 14,
   "metadata": {},
   "outputs": [],
   "source": [
    "#Adding the Second Hidden layer\n",
    "classifier.add(Dense(6,kernel_initializer='uniform',activation='relu'))"
   ]
  },
  {
   "cell_type": "code",
   "execution_count": 15,
   "metadata": {},
   "outputs": [],
   "source": [
    "#Adding Output layer\n",
    "#IF CATEGORICAL OUTPUT THN IT MUST BE ACC TO THT AND ACTIVATION WILL BE SOFTMAX FUNCTION\n",
    "classifier.add(Dense(1,kernel_initializer='uniform',activation='sigmoid'))"
   ]
  },
  {
   "cell_type": "code",
   "execution_count": 16,
   "metadata": {},
   "outputs": [],
   "source": [
    "#Compiling the ANN(stochastic gradient descent)\n",
    "classifier.compile(optimizer='adam',loss='binary_crossentropy',metrics=['accuracy'])"
   ]
  },
  {
   "cell_type": "code",
   "execution_count": 17,
   "metadata": {},
   "outputs": [
    {
     "name": "stdout",
     "output_type": "stream",
     "text": [
      "Epoch 1/100\n",
      "8000/8000 [==============================] - 1s 105us/step - loss: 0.4886 - accuracy: 0.7960\n",
      "Epoch 2/100\n",
      "8000/8000 [==============================] - 1s 74us/step - loss: 0.4308 - accuracy: 0.7960\n",
      "Epoch 3/100\n",
      "8000/8000 [==============================] - 1s 81us/step - loss: 0.4249 - accuracy: 0.7999\n",
      "Epoch 4/100\n",
      "8000/8000 [==============================] - 1s 73us/step - loss: 0.4199 - accuracy: 0.8213\n",
      "Epoch 5/100\n",
      "8000/8000 [==============================] - 1s 83us/step - loss: 0.4172 - accuracy: 0.8261\n",
      "Epoch 6/100\n",
      "8000/8000 [==============================] - 1s 80us/step - loss: 0.4155 - accuracy: 0.8286\n",
      "Epoch 7/100\n",
      "8000/8000 [==============================] - 1s 86us/step - loss: 0.4138 - accuracy: 0.8304\n",
      "Epoch 8/100\n",
      "8000/8000 [==============================] - 1s 78us/step - loss: 0.4129 - accuracy: 0.8326\n",
      "Epoch 9/100\n",
      "8000/8000 [==============================] - 1s 77us/step - loss: 0.4119 - accuracy: 0.8322\n",
      "Epoch 10/100\n",
      "8000/8000 [==============================] - 1s 78us/step - loss: 0.4108 - accuracy: 0.8335\n",
      "Epoch 11/100\n",
      "8000/8000 [==============================] - 1s 78us/step - loss: 0.4099 - accuracy: 0.8349\n",
      "Epoch 12/100\n",
      "8000/8000 [==============================] - 1s 86us/step - loss: 0.4084 - accuracy: 0.8349\n",
      "Epoch 13/100\n",
      "8000/8000 [==============================] - 1s 79us/step - loss: 0.4075 - accuracy: 0.8328\n",
      "Epoch 14/100\n",
      "8000/8000 [==============================] - 1s 79us/step - loss: 0.4079 - accuracy: 0.8332\n",
      "Epoch 15/100\n",
      "8000/8000 [==============================] - 1s 89us/step - loss: 0.4078 - accuracy: 0.8344\n",
      "Epoch 16/100\n",
      "8000/8000 [==============================] - 1s 85us/step - loss: 0.4071 - accuracy: 0.8356\n",
      "Epoch 17/100\n",
      "8000/8000 [==============================] - 1s 83us/step - loss: 0.4060 - accuracy: 0.8346\n",
      "Epoch 18/100\n",
      "8000/8000 [==============================] - 1s 85us/step - loss: 0.4062 - accuracy: 0.8363\n",
      "Epoch 19/100\n",
      "8000/8000 [==============================] - 1s 82us/step - loss: 0.4056 - accuracy: 0.8346\n",
      "Epoch 20/100\n",
      "8000/8000 [==============================] - 1s 87us/step - loss: 0.4053 - accuracy: 0.8356\n",
      "Epoch 21/100\n",
      "8000/8000 [==============================] - 1s 80us/step - loss: 0.4043 - accuracy: 0.8347\n",
      "Epoch 22/100\n",
      "8000/8000 [==============================] - 1s 80us/step - loss: 0.4053 - accuracy: 0.8319\n",
      "Epoch 23/100\n",
      "8000/8000 [==============================] - 1s 81us/step - loss: 0.4044 - accuracy: 0.8336\n",
      "Epoch 24/100\n",
      "8000/8000 [==============================] - 1s 80us/step - loss: 0.4049 - accuracy: 0.8357\n",
      "Epoch 25/100\n",
      "8000/8000 [==============================] - 1s 80us/step - loss: 0.4036 - accuracy: 0.8328\n",
      "Epoch 26/100\n",
      "8000/8000 [==============================] - 1s 82us/step - loss: 0.4045 - accuracy: 0.8357 0s - loss: 0.3\n",
      "Epoch 27/100\n",
      "8000/8000 [==============================] - 1s 80us/step - loss: 0.4038 - accuracy: 0.8339\n",
      "Epoch 28/100\n",
      "8000/8000 [==============================] - 1s 81us/step - loss: 0.4032 - accuracy: 0.8364\n",
      "Epoch 29/100\n",
      "8000/8000 [==============================] - 1s 87us/step - loss: 0.4036 - accuracy: 0.8346\n",
      "Epoch 30/100\n",
      "8000/8000 [==============================] - 1s 86us/step - loss: 0.4030 - accuracy: 0.8359\n",
      "Epoch 31/100\n",
      "8000/8000 [==============================] - 1s 80us/step - loss: 0.4024 - accuracy: 0.8346\n",
      "Epoch 32/100\n",
      "8000/8000 [==============================] - 1s 81us/step - loss: 0.4026 - accuracy: 0.8364\n",
      "Epoch 33/100\n",
      "8000/8000 [==============================] - 1s 82us/step - loss: 0.4033 - accuracy: 0.8339\n",
      "Epoch 34/100\n",
      "8000/8000 [==============================] - 1s 81us/step - loss: 0.4022 - accuracy: 0.8360\n",
      "Epoch 35/100\n",
      "8000/8000 [==============================] - 1s 82us/step - loss: 0.4037 - accuracy: 0.8344\n",
      "Epoch 36/100\n",
      "8000/8000 [==============================] - 1s 81us/step - loss: 0.4025 - accuracy: 0.8342\n",
      "Epoch 37/100\n",
      "8000/8000 [==============================] - 1s 87us/step - loss: 0.4029 - accuracy: 0.8354\n",
      "Epoch 38/100\n",
      "8000/8000 [==============================] - 1s 81us/step - loss: 0.4032 - accuracy: 0.8356\n",
      "Epoch 39/100\n",
      "8000/8000 [==============================] - 1s 81us/step - loss: 0.4027 - accuracy: 0.8355\n",
      "Epoch 40/100\n",
      "8000/8000 [==============================] - 1s 84us/step - loss: 0.4022 - accuracy: 0.8351\n",
      "Epoch 41/100\n",
      "8000/8000 [==============================] - 1s 89us/step - loss: 0.4018 - accuracy: 0.8359\n",
      "Epoch 42/100\n",
      "8000/8000 [==============================] - 1s 87us/step - loss: 0.4028 - accuracy: 0.8342\n",
      "Epoch 43/100\n",
      "8000/8000 [==============================] - 1s 88us/step - loss: 0.4020 - accuracy: 0.8345\n",
      "Epoch 44/100\n",
      "8000/8000 [==============================] - 1s 84us/step - loss: 0.4025 - accuracy: 0.8356\n",
      "Epoch 45/100\n",
      "8000/8000 [==============================] - 1s 80us/step - loss: 0.4024 - accuracy: 0.8344\n",
      "Epoch 46/100\n",
      "8000/8000 [==============================] - 1s 80us/step - loss: 0.4020 - accuracy: 0.8354\n",
      "Epoch 47/100\n",
      "8000/8000 [==============================] - 1s 80us/step - loss: 0.4017 - accuracy: 0.8340\n",
      "Epoch 48/100\n",
      "8000/8000 [==============================] - 1s 81us/step - loss: 0.4028 - accuracy: 0.8331\n",
      "Epoch 49/100\n",
      "8000/8000 [==============================] - 1s 87us/step - loss: 0.4018 - accuracy: 0.8346\n",
      "Epoch 50/100\n",
      "8000/8000 [==============================] - 1s 86us/step - loss: 0.4022 - accuracy: 0.8338\n",
      "Epoch 51/100\n",
      "8000/8000 [==============================] - 1s 81us/step - loss: 0.4011 - accuracy: 0.8342\n",
      "Epoch 52/100\n",
      "8000/8000 [==============================] - ETA: 0s - loss: 0.4029 - accuracy: 0.83 - 1s 81us/step - loss: 0.4021 - accuracy: 0.8351\n",
      "Epoch 53/100\n",
      "8000/8000 [==============================] - 1s 83us/step - loss: 0.4019 - accuracy: 0.8334\n",
      "Epoch 54/100\n",
      "8000/8000 [==============================] - 1s 85us/step - loss: 0.4018 - accuracy: 0.8357\n",
      "Epoch 55/100\n",
      "8000/8000 [==============================] - 1s 91us/step - loss: 0.4022 - accuracy: 0.8335\n",
      "Epoch 56/100\n",
      "8000/8000 [==============================] - 1s 85us/step - loss: 0.4023 - accuracy: 0.8334\n",
      "Epoch 57/100\n",
      "8000/8000 [==============================] - 1s 83us/step - loss: 0.4022 - accuracy: 0.8354\n",
      "Epoch 58/100\n",
      "8000/8000 [==============================] - 1s 85us/step - loss: 0.4016 - accuracy: 0.8350\n",
      "Epoch 59/100\n",
      "8000/8000 [==============================] - 1s 82us/step - loss: 0.4015 - accuracy: 0.8351\n",
      "Epoch 60/100\n",
      "8000/8000 [==============================] - 1s 84us/step - loss: 0.4014 - accuracy: 0.8342\n",
      "Epoch 61/100\n",
      "8000/8000 [==============================] - 1s 83us/step - loss: 0.4013 - accuracy: 0.8350\n",
      "Epoch 62/100\n",
      "8000/8000 [==============================] - 1s 85us/step - loss: 0.4007 - accuracy: 0.8354\n",
      "Epoch 63/100\n",
      "8000/8000 [==============================] - 1s 90us/step - loss: 0.4016 - accuracy: 0.8345\n",
      "Epoch 64/100\n",
      "8000/8000 [==============================] - 1s 85us/step - loss: 0.4015 - accuracy: 0.8344\n",
      "Epoch 65/100\n",
      "8000/8000 [==============================] - 1s 82us/step - loss: 0.4018 - accuracy: 0.8350\n",
      "Epoch 66/100\n",
      "8000/8000 [==============================] - 1s 84us/step - loss: 0.4011 - accuracy: 0.8340\n",
      "Epoch 67/100\n",
      "8000/8000 [==============================] - 1s 77us/step - loss: 0.4013 - accuracy: 0.8351\n",
      "Epoch 68/100\n",
      "8000/8000 [==============================] - 1s 76us/step - loss: 0.4015 - accuracy: 0.8346\n",
      "Epoch 69/100\n",
      "8000/8000 [==============================] - 1s 76us/step - loss: 0.4014 - accuracy: 0.8342 0s - loss: 0.4072 \n",
      "Epoch 70/100\n",
      "8000/8000 [==============================] - 1s 76us/step - loss: 0.4014 - accuracy: 0.8353\n",
      "Epoch 71/100\n",
      "8000/8000 [==============================] - 1s 76us/step - loss: 0.4019 - accuracy: 0.8356\n",
      "Epoch 72/100\n",
      "8000/8000 [==============================] - 1s 76us/step - loss: 0.4010 - accuracy: 0.8342\n",
      "Epoch 73/100\n",
      "8000/8000 [==============================] - 1s 76us/step - loss: 0.4014 - accuracy: 0.8341\n",
      "Epoch 74/100\n",
      "8000/8000 [==============================] - 1s 76us/step - loss: 0.4013 - accuracy: 0.8331\n",
      "Epoch 75/100\n",
      "8000/8000 [==============================] - 1s 77us/step - loss: 0.4019 - accuracy: 0.8345\n",
      "Epoch 76/100\n",
      "8000/8000 [==============================] - 1s 76us/step - loss: 0.4016 - accuracy: 0.8351\n",
      "Epoch 77/100\n",
      "8000/8000 [==============================] - 1s 76us/step - loss: 0.4014 - accuracy: 0.8357\n",
      "Epoch 78/100\n"
     ]
    },
    {
     "name": "stdout",
     "output_type": "stream",
     "text": [
      "8000/8000 [==============================] - 1s 74us/step - loss: 0.4021 - accuracy: 0.8346\n",
      "Epoch 79/100\n",
      "8000/8000 [==============================] - 1s 74us/step - loss: 0.4010 - accuracy: 0.8338\n",
      "Epoch 80/100\n",
      "8000/8000 [==============================] - 1s 74us/step - loss: 0.4017 - accuracy: 0.8326\n",
      "Epoch 81/100\n",
      "8000/8000 [==============================] - 1s 79us/step - loss: 0.4015 - accuracy: 0.8355\n",
      "Epoch 82/100\n",
      "8000/8000 [==============================] - 1s 82us/step - loss: 0.4014 - accuracy: 0.8339\n",
      "Epoch 83/100\n",
      "8000/8000 [==============================] - 1s 80us/step - loss: 0.4015 - accuracy: 0.8338\n",
      "Epoch 84/100\n",
      "8000/8000 [==============================] - 1s 82us/step - loss: 0.4017 - accuracy: 0.8356\n",
      "Epoch 85/100\n",
      "8000/8000 [==============================] - 1s 81us/step - loss: 0.4013 - accuracy: 0.8356\n",
      "Epoch 86/100\n",
      "8000/8000 [==============================] - 1s 85us/step - loss: 0.4013 - accuracy: 0.8364\n",
      "Epoch 87/100\n",
      "8000/8000 [==============================] - 1s 83us/step - loss: 0.4014 - accuracy: 0.8340\n",
      "Epoch 88/100\n",
      "8000/8000 [==============================] - 1s 87us/step - loss: 0.4012 - accuracy: 0.8346\n",
      "Epoch 89/100\n",
      "8000/8000 [==============================] - 1s 85us/step - loss: 0.4022 - accuracy: 0.8353\n",
      "Epoch 90/100\n",
      "8000/8000 [==============================] - 1s 91us/step - loss: 0.4014 - accuracy: 0.8344\n",
      "Epoch 91/100\n",
      "8000/8000 [==============================] - 1s 90us/step - loss: 0.4014 - accuracy: 0.8345\n",
      "Epoch 92/100\n",
      "8000/8000 [==============================] - 1s 81us/step - loss: 0.4005 - accuracy: 0.8340\n",
      "Epoch 93/100\n",
      "8000/8000 [==============================] - ETA: 0s - loss: 0.3996 - accuracy: 0.8373 ETA: 0s - loss: 0.3977 - ac - 1s 81us/step - loss: 0.4011 - accuracy: 0.8360\n",
      "Epoch 94/100\n",
      "8000/8000 [==============================] - 1s 85us/step - loss: 0.4012 - accuracy: 0.8344\n",
      "Epoch 95/100\n",
      "8000/8000 [==============================] - 1s 83us/step - loss: 0.4009 - accuracy: 0.8339\n",
      "Epoch 96/100\n",
      "8000/8000 [==============================] - 1s 83us/step - loss: 0.4019 - accuracy: 0.8332\n",
      "Epoch 97/100\n",
      "8000/8000 [==============================] - 1s 85us/step - loss: 0.4018 - accuracy: 0.8342\n",
      "Epoch 98/100\n",
      "8000/8000 [==============================] - 1s 83us/step - loss: 0.4003 - accuracy: 0.8335\n",
      "Epoch 99/100\n",
      "8000/8000 [==============================] - 1s 85us/step - loss: 0.4009 - accuracy: 0.8354\n",
      "Epoch 100/100\n",
      "8000/8000 [==============================] - 1s 84us/step - loss: 0.4011 - accuracy: 0.8356\n"
     ]
    },
    {
     "data": {
      "text/plain": [
       "<keras.callbacks.callbacks.History at 0x27c46289e88>"
      ]
     },
     "execution_count": 17,
     "metadata": {},
     "output_type": "execute_result"
    }
   ],
   "source": [
    "#Fitting the ANN to Training set\n",
    "classifier.fit(x_train,y_train,batch_size=10,epochs=100)"
   ]
  },
  {
   "cell_type": "code",
   "execution_count": 25,
   "metadata": {},
   "outputs": [
    {
     "data": {
      "text/plain": [
       "array([[False],\n",
       "       [False],\n",
       "       [False],\n",
       "       ...,\n",
       "       [False],\n",
       "       [False],\n",
       "       [False]])"
      ]
     },
     "execution_count": 25,
     "metadata": {},
     "output_type": "execute_result"
    }
   ],
   "source": [
    "#predicting the Test set Result\n",
    "y_pred=classifier.predict(x_test)\n",
    "y_pred=(y_pred>0.5)\n",
    "y_pred"
   ]
  },
  {
   "cell_type": "code",
   "execution_count": 27,
   "metadata": {},
   "outputs": [
    {
     "data": {
      "text/plain": [
       "array([[1542,   53],\n",
       "       [ 262,  143]], dtype=int64)"
      ]
     },
     "execution_count": 27,
     "metadata": {},
     "output_type": "execute_result"
    }
   ],
   "source": [
    "#Making Confusion Matrix\n",
    "from sklearn.metrics import confusion_matrix\n",
    "cm = confusion_matrix(y_test,y_pred)\n",
    "cm"
   ]
  },
  {
   "cell_type": "code",
   "execution_count": 23,
   "metadata": {},
   "outputs": [],
   "source": []
  },
  {
   "cell_type": "code",
   "execution_count": null,
   "metadata": {},
   "outputs": [],
   "source": []
  }
 ],
 "metadata": {
  "kernelspec": {
   "display_name": "Python 3",
   "language": "python",
   "name": "python3"
  },
  "language_info": {
   "codemirror_mode": {
    "name": "ipython",
    "version": 3
   },
   "file_extension": ".py",
   "mimetype": "text/x-python",
   "name": "python",
   "nbconvert_exporter": "python",
   "pygments_lexer": "ipython3",
   "version": "3.7.7"
  }
 },
 "nbformat": 4,
 "nbformat_minor": 4
}
